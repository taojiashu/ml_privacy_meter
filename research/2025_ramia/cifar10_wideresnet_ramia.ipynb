{
 "cells": [
  {
   "cell_type": "markdown",
   "metadata": {},
   "source": [
    "# Visualization of CIFAR10 results with WideResNets"
   ]
  },
  {
   "cell_type": "code",
   "execution_count": null,
   "metadata": {},
   "outputs": [],
   "source": [
    "%load_ext autoreload\n",
    "%autoreload 2"
   ]
  },
  {
   "cell_type": "code",
   "execution_count": null,
   "metadata": {},
   "outputs": [],
   "source": [
    "import numpy as np\n",
    "from sklearn.metrics import roc_curve\n",
    "from membership_testers.utils import get_rmia_score_arrays_from_loss_arrays\n",
    "from visualize import plot_multiple_roc_curves"
   ]
  },
  {
   "cell_type": "markdown",
   "metadata": {},
   "source": [
    "# Setting up"
   ]
  },
  {
   "cell_type": "code",
   "execution_count": null,
   "metadata": {},
   "outputs": [],
   "source": [
    "split_matrices = [\n",
    "    np.load(\"mi_lira_2021/exp/cifar10/experiment-{}_16/keep.npy\".format(i)).reshape(\n",
    "        1, -1\n",
    "    )\n",
    "    for i in range(16)\n",
    "]"
   ]
  },
  {
   "cell_type": "code",
   "execution_count": null,
   "metadata": {},
   "outputs": [],
   "source": [
    "split_matrix = np.concatenate(split_matrices, axis=0)"
   ]
  },
  {
   "cell_type": "code",
   "execution_count": null,
   "metadata": {},
   "outputs": [],
   "source": [
    "from pathlib import Path\n",
    "import numpy as np\n",
    "\n",
    "BASE_DIR = Path(\"./mi_lira_2021/exp/cifar10\")\n",
    "LOSS_FILE = \"loss/0000000100.npy\"\n",
    "\n",
    "# Load losses into a list -------------------------------------------\n",
    "losses = [\n",
    "    np.load(BASE_DIR / f\"experiment-{i}_16\" / LOSS_FILE).squeeze(1)\n",
    "    for i in range(16)\n",
    "]"
   ]
  },
  {
   "cell_type": "code",
   "execution_count": null,
   "metadata": {},
   "outputs": [],
   "source": [
    "rmia_offline = get_rmia_score_arrays_from_loss_arrays(\n",
    "    losses,\n",
    "    split_matrix,\n",
    "    offline=True,\n",
    "    a=0.33\n",
    ")"
   ]
  },
  {
   "cell_type": "code",
   "execution_count": null,
   "metadata": {},
   "outputs": [],
   "source": [
    "rmia_offline.shape"
   ]
  },
  {
   "cell_type": "markdown",
   "metadata": {},
   "source": [
    "## No Range"
   ]
  },
  {
   "cell_type": "code",
   "execution_count": null,
   "metadata": {},
   "outputs": [],
   "source": [
    "fpr, tpr, _ = roc_curve(split_matrix[0], rmia_offline[:, 0])\n",
    "plot_multiple_roc_curves([fpr], [tpr], \"Aug, original images\")"
   ]
  },
  {
   "cell_type": "markdown",
   "metadata": {},
   "source": [
    "## Range"
   ]
  },
  {
   "cell_type": "code",
   "execution_count": null,
   "metadata": {},
   "outputs": [],
   "source": [
    "def get_topk(array, k):\n",
    "    id = (-array).argsort(axis=1)[:, :k]\n",
    "    return array[np.arange(array.shape[0])[:, None], id]\n",
    "\n",
    "def get_bottomk(array, k):\n",
    "    id = array.argsort(axis=1)[:, :k]\n",
    "    return array[np.arange(array.shape[0])[:, None], id]"
   ]
  },
  {
   "cell_type": "markdown",
   "metadata": {},
   "source": [
    "### bottomk"
   ]
  },
  {
   "cell_type": "code",
   "execution_count": null,
   "metadata": {},
   "outputs": [],
   "source": [
    "fprs = []\n",
    "tprs = []\n",
    "\n",
    "fpr, tpr, _ = roc_curve(split_matrix[0], get_bottomk(rmia_offline, 4).mean(1))\n",
    "plot_multiple_roc_curves(fprs, tprs, \"Aug, bottom-4\")"
   ]
  }
 ],
 "metadata": {
  "kernelspec": {
   "display_name": "range_mia",
   "language": "python",
   "name": "python3"
  },
  "language_info": {
   "codemirror_mode": {
    "name": "ipython",
    "version": 3
   },
   "file_extension": ".py",
   "mimetype": "text/x-python",
   "name": "python",
   "nbconvert_exporter": "python",
   "pygments_lexer": "ipython3",
   "version": "3.12.4"
  }
 },
 "nbformat": 4,
 "nbformat_minor": 2
}
